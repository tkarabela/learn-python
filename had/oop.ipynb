{
 "cells": [
  {
   "cell_type": "markdown",
   "metadata": {},
   "source": [
    "# Had, aneb OOP"
   ]
  },
  {
   "cell_type": "markdown",
   "metadata": {},
   "source": [
    "## Jak to vzniklo\n",
    "\n",
    "- 1970s, XEROX PARC labs, Alan Kay, Smalltak\n",
    "- Smalltalk image $\\approx$ běžící Jupyter notebook (celý OS v jednom prostředí, lze celý uložit a načíst)\n",
    "\n",
    "## Vysvětlení pro školkou povinné\n",
    "\n",
    "- **program** = pohádka o zvířátkách, dává smysl v lidském jazyce (skrytí technických detailů)\n",
    "- **objekty** = zvířátka, každé rozumí určitým povelům (veřejné rozhraní) a je samostatné, typicky nechceme vidět do jeho útrob (privátní implementace)\n",
    "- **polymorfismus** = některá zvířátka jsou si podobná a dají se použít ve stejné situaci (kůň, osel), s různými výsledky\n",
    "- **kompozice** = zvířátko má uvnitř malá zvířátka (bakterie), která mají uvnitř sebe ještě menší zvířátka (buňky), a tak dále\n",
    "\n",
    "Další pojmy:\n",
    "\n",
    "- **konstruktor** = zrození zvířátka (prakticky vzato funkce, která vrací nový objekt)\n",
    "- **metoda** = povel konkrétnímu zvířátku (prakticky vzato funkce, která bere navíc skrytý parametr - značený `self` či `this` - což je objekt, v jehož kontextu se má funkce provádět)\n",
    "- **třída** = druh zvířátka (předpis pro objekty, které sdílejí tytéž metody)\n",
    "- **dědičnost** = zoologická klasifikace druhů (způsob, jak jedna třída může specializovat jinou, převzít její metody a přidat nové nebo je předefinovat)\n",
    "\n",
    "## Disclaimer\n",
    "\n",
    "Všechny dnes široce rozšířené jazyky (Python, C++, Java, JavaScript, ...) jsou **multiparadigmatické**, vypůjčují si prvky více programovacích stylů (\"paradigmat\") a vlastně jsou si mnohem podobnější, než se může zdát. **\"Čistě objektový\"** jazyk je něco jako **jednorožec**, a rovněž jazyk bez \"vestavěného\" OOP lze tímto způsobem programovat (C, Lua)."
   ]
  },
  {
   "cell_type": "markdown",
   "metadata": {},
   "source": [
    "## Příklad: skalární součin natřikrát"
   ]
  },
  {
   "cell_type": "markdown",
   "metadata": {},
   "source": [
    "$$\\mathrm{dot}(x, y) := x_1 y_1 + \\cdots + x_{i} y_{i}$$"
   ]
  },
  {
   "cell_type": "markdown",
   "metadata": {},
   "source": [
    "**Imperativní styl, jazyk C**\n",
    "\n",
    "- popisuje postup krok za krokem z pohledu \"stroje\"\n",
    "- skrývá minimum detailů \"stroje\", což umožňuje napsat efektivní program (ale, ale, ...)\n",
    "- obtížnější abstrakce\n",
    "  - proč potřebuji explicitně předávat \"n\", to si vektory nepamatují svou délku?\n",
    "  - co když nechci počítat float, ale int, double, ..., to musím funkci napsat znova?"
   ]
  },
  {
   "cell_type": "markdown",
   "metadata": {},
   "source": [
    "```c\n",
    "#include <stdio.h>\n",
    "\n",
    "float dot(int n, float *x, float *y) {\n",
    "    float acc = 0.0f;\n",
    "    for (int i = 0; i < n; i++) {\n",
    "        acc += x[i] * y[i];\n",
    "    }\n",
    "    return acc;\n",
    "}\n",
    "\n",
    "\n",
    "int main(int argc, char *argv[]) {\n",
    "    float x[] = {1, 2, 3};\n",
    "    float y[] = {5, 5, 5};\n",
    "    float result = dot(3, x, y);\n",
    "    printf(\"%f\\n\", result);\n",
    "    return 0;\n",
    "}\n",
    "```"
   ]
  },
  {
   "cell_type": "markdown",
   "metadata": {},
   "source": [
    "**Deklarativní / funkcionální styl, jazyk Haskell**\n",
    "\n",
    "- popisuje výsledek pomocí skládání operací nad daty, nedává přímý návod \"pro stroj\"\n",
    "- skrývá velkou část \"stroje\", může být obtížnější optimalizovat\n",
    "- abstrakce je velmi snadná"
   ]
  },
  {
   "cell_type": "markdown",
   "metadata": {},
   "source": [
    "```haskell\n",
    "dot :: (Num a) => [a] -> [a] -> a       -- skalární součin bere dva seznamy čísel a vrací číslo\n",
    "dot [] [] = 0                           -- dot(x, y) == 0 if (len(x) == 0 and len(y) == 0)\n",
    "dot (x:xs) (y:ys) = x*y + dot xs ys     -- dot(x, y) == x[0]*y[0] + dot(x[1:], y[1:])\n",
    "\n",
    "\n",
    "main :: IO()\n",
    "main = print (dot [1,2,3] [5,5,5])\n",
    "```"
   ]
  },
  {
   "cell_type": "markdown",
   "metadata": {},
   "source": [
    "```haskell\n",
    "-- skalární součin je, když sečtu to, že po složkách vynásobím oba vektory\n",
    "dot' x y = sum(zipWith (*) x y)\n",
    "```"
   ]
  },
  {
   "cell_type": "markdown",
   "metadata": {},
   "source": [
    "**Objektově orientovaný styl, jazyk Python**\n",
    "\n",
    "- popisuje výsledek pomocí spolupráce objektů (zapouzdřená data + přidružené operace)\n",
    "- intuitivní modelování problému (objekt \"Uživatel\", \"Grafické Okno\", apod.)\n",
    "- veřejné rozhraní vs. vnitřní skryté detaily objektu\n",
    "- \"zastupitelnost\" objektů - chování lze změnit tím, že podstrčím lehce jiný objekt - polymorfismus (hlavní rys OOP)"
   ]
  },
  {
   "cell_type": "code",
   "execution_count": 5,
   "metadata": {},
   "outputs": [
    {
     "name": "stdout",
     "output_type": "stream",
     "text": [
      "30\n"
     ]
    }
   ],
   "source": [
    "import numpy as np\n",
    "\n",
    "\n",
    "x = np.asarray([1,2,3])     # `x` je objekt typu `ndarray`\n",
    "y = np.asarray([5,5,5])\n",
    "print(x.dot(y))             # `dot()` je metoda objektů typu `ndarray` - metoda ve třídě `ndarray`"
   ]
  },
  {
   "cell_type": "markdown",
   "metadata": {},
   "source": [
    "**Imperativní styl, jazyk Python**"
   ]
  },
  {
   "cell_type": "code",
   "execution_count": 7,
   "metadata": {},
   "outputs": [
    {
     "data": {
      "text/plain": [
       "30"
      ]
     },
     "execution_count": 7,
     "metadata": {},
     "output_type": "execute_result"
    }
   ],
   "source": [
    "def dot(x, y):\n",
    "    acc = 0\n",
    "    for i in range(len(x)):\n",
    "        acc += x[i] * y[i]\n",
    "    return acc\n",
    "\n",
    "dot([1,2,3], [5,5,5])"
   ]
  },
  {
   "cell_type": "markdown",
   "metadata": {},
   "source": [
    "**Deklarativní / funkcionální styl, jazyk Python**"
   ]
  },
  {
   "cell_type": "code",
   "execution_count": 1,
   "metadata": {},
   "outputs": [
    {
     "data": {
      "text/plain": [
       "30"
      ]
     },
     "execution_count": 1,
     "metadata": {},
     "output_type": "execute_result"
    }
   ],
   "source": [
    "from itertools import starmap\n",
    "from operator import mul as multiply\n",
    "\n",
    "\n",
    "xs = [1,2,3]\n",
    "ys = [5,5,5]\n",
    "\n",
    "\n",
    "def dot(xs, ys):\n",
    "    return sum(x*y for x, y in zip(xs, ys))\n",
    "\n",
    "dot(xs, ys)"
   ]
  },
  {
   "cell_type": "code",
   "execution_count": 2,
   "metadata": {},
   "outputs": [
    {
     "data": {
      "text/plain": [
       "30"
      ]
     },
     "execution_count": 2,
     "metadata": {},
     "output_type": "execute_result"
    }
   ],
   "source": [
    "# a la Haskell, priklad 2 - to vypada v Pythonu hrozne\n",
    "\n",
    "dot = lambda xs, ys: sum(starmap(multiply, zip(xs, ys)))  # skalární součin je, když sečtu to...\n",
    "dot(xs, ys)"
   ]
  },
  {
   "cell_type": "markdown",
   "metadata": {},
   "source": [
    "**Objektově orientovaný styl, jazyk Smalltalk (pseudokód)**\n",
    "\n",
    "- podobnost s přirozeným jazykem, příkazy jako věty (podmět-přísudek), ukončené tečkou\n",
    "- viz SQL"
   ]
  },
  {
   "cell_type": "markdown",
   "metadata": {},
   "source": [
    "```smalltalk\n",
    "x := Vector with: 1 with: 2 with: 3.\n",
    "y := Vector with: 5 with: 5 with: 5.\n",
    "\n",
    "Transcript show: (x dotProductWith: y).\n",
    "```"
   ]
  }
 ],
 "metadata": {
  "kernelspec": {
   "display_name": "Python 3",
   "language": "python",
   "name": "python3"
  },
  "language_info": {
   "codemirror_mode": {
    "name": "ipython",
    "version": 3
   },
   "file_extension": ".py",
   "mimetype": "text/x-python",
   "name": "python",
   "nbconvert_exporter": "python",
   "pygments_lexer": "ipython3",
   "version": "3.6.5"
  }
 },
 "nbformat": 4,
 "nbformat_minor": 2
}
